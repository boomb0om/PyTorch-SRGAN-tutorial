{
 "cells": [
  {
   "cell_type": "markdown",
   "id": "consistent-decimal",
   "metadata": {},
   "source": [
    "В этом туториале мы будем использовать FLICKR2k и DIV2K датасеты для обучения.<br>"
   ]
  },
  {
   "cell_type": "code",
   "execution_count": null,
   "id": "honey-salvation",
   "metadata": {},
   "outputs": [],
   "source": [
    "import os\n",
    "import json\n",
    "import matplotlib.pyplot as plt\n",
    "import numpy as np\n",
    "from utils import create_data_lists"
   ]
  },
  {
   "cell_type": "markdown",
   "id": "lined-affiliate",
   "metadata": {},
   "source": [
    "Функция `сreate_data_lists(train_folders=[...], test_folders=[...], min_size, output_folder)` принимает список путей к папкам, в которых лежат только hr изображения, и записывает пути ко всем изображениям в json формате. Параметр `min_size` определяет какой минимальный размер (по обеим сторонам) должен быть у каждого изображения.\n",
    "\n",
    "Создадим json с изображениями для обучения из объединенных FLICKR2k и DIV2k, а для проверки качества модели сделаем тестовый json из валидационных изображений DIV2k. <br>\n",
    "В параметрах `train_folders` и `test_folders` пути к папкам с изображениями замените на свои. <br>"
   ]
  },
  {
   "cell_type": "code",
   "execution_count": null,
   "id": "ethical-union",
   "metadata": {
    "scrolled": true
   },
   "outputs": [],
   "source": [
    "save_folder = './jsons/' # папка, в которую будут сохранены json-ы\n",
    "\n",
    "# может выполняться около 2-3 минут, в зависимости от кол-ва изображений\n",
    "create_data_lists(\n",
    "    train_folders=[\n",
    "        '../datasets/flickr2k_hr/hr',\n",
    "        '../datasets/DIV2K/DIV2K_train_HR',\n",
    "    ],\n",
    "    test_folders=['../datasets/DIV2K/DIV2K_valid_HR'],\n",
    "    min_size=257,\n",
    "    output_folder=save_folder\n",
    ")"
   ]
  },
  {
   "cell_type": "markdown",
   "id": "satisfied-today",
   "metadata": {},
   "source": [
    "Посмотрим на формат составленных json-ов: <br>\n",
    "Каждый такой json - это просто список путей к изображениям из всех датасетов"
   ]
  },
  {
   "cell_type": "code",
   "execution_count": null,
   "id": "grateful-advisory",
   "metadata": {},
   "outputs": [],
   "source": [
    "with open(os.path.join(save_folder,'train_images.json'), 'rt') as f:\n",
    "    data = json.loads(f.read())\n",
    "\n",
    "import random\n",
    "# посмотрим на случайное изображение из списка\n",
    "image_path = random.choice(data)\n",
    "print(image_path)\n",
    "plt.imshow(plt.imread(image_path)) # выведем это изображение"
   ]
  },
  {
   "cell_type": "code",
   "execution_count": null,
   "id": "theoretical-racing",
   "metadata": {},
   "outputs": [],
   "source": []
  }
 ],
 "metadata": {
  "kernelspec": {
   "display_name": "Python 3",
   "language": "python",
   "name": "python3"
  },
  "language_info": {
   "codemirror_mode": {
    "name": "ipython",
    "version": 3
   },
   "file_extension": ".py",
   "mimetype": "text/x-python",
   "name": "python",
   "nbconvert_exporter": "python",
   "pygments_lexer": "ipython3",
   "version": "3.7.8"
  }
 },
 "nbformat": 4,
 "nbformat_minor": 5
}
